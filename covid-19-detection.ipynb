{
 "cells": [
  {
   "cell_type": "markdown",
   "metadata": {},
   "source": [
    "# DETECTING COVID-19 with CHEST X RAY using PyTorch\n",
    "\n",
    "image classification of Chest X Rays in one of three classes: normal, viral pneumonia, COVID-19\n",
    "\n",
    "modified dataset from [COVID-19 Radiography Dataset](https://www.kaggle.com/tawsifurrahman/covid19-radiography-database) on kaggle"
   ]
  },
  {
   "cell_type": "markdown",
   "metadata": {},
   "source": [
    "## Importing Libraries"
   ]
  },
  {
   "cell_type": "code",
   "execution_count": 2,
   "metadata": {},
   "outputs": [
    {
     "name": "stdout",
     "output_type": "stream",
     "text": [
      "PyTorch version 2.3.1+cu121\n"
     ]
    }
   ],
   "source": [
    "%matplotlib inline\n",
    "\n",
    "import os\n",
    "import shutil\n",
    "import random\n",
    "import torch\n",
    "import torchvision\n",
    "import numpy as np\n",
    "\n",
    "from PIL import Image\n",
    "from matplotlib import pyplot as plt\n",
    "\n",
    "torch.manual_seed(42)\n",
    "\n",
    "print('PyTorch version', torch.__version__)"
   ]
  },
  {
   "cell_type": "markdown",
   "metadata": {},
   "source": [
    "## Preparing Training and Test Sets"
   ]
  },
  {
   "cell_type": "code",
   "execution_count": 3,
   "metadata": {},
   "outputs": [],
   "source": [
    "root = 'covid-19-radiography-database'\n",
    "source = ['normal', 'viral pneumonia', 'COVID']\n",
    "classes = ['normal', 'viral pneumonia', 'COVID']\n",
    "\n",
    "\n",
    "if os.path.isdir(os.path.join(root, source[1])):\n",
    "    test = os.path.join(root, 'test')\n",
    "    if not os.path.exists(test):\n",
    "        os.mkdir(test)\n",
    "\n",
    "    for i, d in enumerate(source):\n",
    "        os.rename(os.path.join(root, d), os.path.join(root, classes[i]))\n",
    "\n",
    "    for c in classes:\n",
    "        classtest = os.path.join(test, c)\n",
    "        if not os.path.exists(classtest):\n",
    "            os.mkdir(classtest)\n",
    "            \n",
    "    for c in classes:\n",
    "        images = [x for x in os.listdir(os.path.join(root, c)) if x.lower().endswith('png')]\n",
    "        selected_images = random.sample(images, 30)\n",
    "        for image in selected_images:\n",
    "            source_path = os.path.join(root, c, image)\n",
    "            target_path = os.path.join(root, 'test', c, image)\n",
    "            shutil.move(source_path, target_path)"
   ]
  },
  {
   "cell_type": "markdown",
   "metadata": {},
   "source": [
    "## Creating Custom Dataset"
   ]
  },
  {
   "cell_type": "code",
   "execution_count": 4,
   "metadata": {},
   "outputs": [],
   "source": [
    "class ChestXRayDataset(torch.utils.data.Dataset):\n",
    "    \n",
    "    # c refers to a class name in classes\n",
    "    \n",
    "    def __init__(self, directories, transform):\n",
    "        def getimages(c):\n",
    "            images = [x for x in os.listdir(directories[c]) if x[-3:].lower().endswith('png')]\n",
    "            print(f'found {len(images)} {c} examples')\n",
    "            return images\n",
    "        \n",
    "        self.images = {}\n",
    "        self.classes = ['normal', 'viral pneumonia', 'covid']\n",
    "        \n",
    "        for c in self.classes:\n",
    "            self.images[c] = getimages(c)\n",
    "            \n",
    "        self.transform = transform\n",
    "        self.directories = directories\n",
    "            \n",
    "    def __len__(self):\n",
    "        return sum([len(self.images[c]) for c in self.classes])\n",
    "    \n",
    "    \n",
    "    def __getitem__(self, index):\n",
    "        c = random.choice(self.classes)\n",
    "        index = index % len(self.images[c])\n",
    "        image_name = self.images[c][index]\n",
    "        image_path = os.path.join(self.image_dirs[c], image_name)\n",
    "        image = Image.open(image_path).convert('RGB')\n",
    "        return self.transform(image), self.classes.index(c)"
   ]
  },
  {
   "cell_type": "markdown",
   "metadata": {},
   "source": [
    "## Image Transformations"
   ]
  },
  {
   "cell_type": "code",
   "execution_count": null,
   "metadata": {},
   "outputs": [],
   "source": [
    "transform_train = torchvision.transforms.Compose([\n",
    "    torchvision.transforms.Resize(size = (224, 244)),\n",
    "    torchvision.transforms.RandomHorizontalFlip(),\n",
    "    torchvision.transforms.ToTensor(),\n",
    "    torchvision.transforms.Normalize(mean = [0.485, 0.456, 0.406], std = [0.229, 0.224, 0.225])\n",
    "])"
   ]
  },
  {
   "cell_type": "code",
   "execution_count": 6,
   "metadata": {},
   "outputs": [],
   "source": [
    "transform_test = torchvision.transforms.Compose([\n",
    "    torchvision.transforms.Resize(size = (224, 244)),\n",
    "    torchvision.transforms.ToTensor(),\n",
    "    torchvision.transforms.Normalize(mean = [0.485, 0.456, 0.406], std = [0.229, 0.224, 0.225])\n",
    "])"
   ]
  }
 ],
 "metadata": {
  "kernelspec": {
   "display_name": "Python 3",
   "language": "python",
   "name": "python3"
  },
  "language_info": {
   "codemirror_mode": {
    "name": "ipython",
    "version": 3
   },
   "file_extension": ".py",
   "mimetype": "text/x-python",
   "name": "python",
   "nbconvert_exporter": "python",
   "pygments_lexer": "ipython3",
   "version": "3.12.2"
  }
 },
 "nbformat": 4,
 "nbformat_minor": 2
}
