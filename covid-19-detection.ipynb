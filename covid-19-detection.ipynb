{
 "cells": [
  {
   "cell_type": "markdown",
   "metadata": {},
   "source": [
    "# DETECTING COVID-19 with CHEST X RAY using PyTorch\n",
    "\n",
    "image classification of Chest X Rays in one of three classes: normal, viral pneumonia, COVID-19\n",
    "\n",
    "modified dataset from [COVID-19 Radiography Dataset](https://www.kaggle.com/tawsifurrahman/covid19-radiography-database) on kaggle"
   ]
  },
  {
   "cell_type": "markdown",
   "metadata": {},
   "source": [
    "## Importing Libraries"
   ]
  },
  {
   "cell_type": "code",
   "execution_count": 2,
   "metadata": {},
   "outputs": [
    {
     "name": "stdout",
     "output_type": "stream",
     "text": [
      "PyTorch version 2.3.1+cu121\n"
     ]
    }
   ],
   "source": [
    "%matplotlib inline\n",
    "\n",
    "import os\n",
    "import shutil\n",
    "import random\n",
    "import torch\n",
    "import torchvision\n",
    "import numpy as np\n",
    "\n",
    "from PIL import Image\n",
    "from matplotlib import pyplot as plt\n",
    "\n",
    "torch.manual_seed(42)\n",
    "\n",
    "print('PyTorch version', torch.__version__)"
   ]
  },
  {
   "cell_type": "markdown",
   "metadata": {},
   "source": [
    "## Preparing Training and Test Sets"
   ]
  },
  {
   "cell_type": "code",
   "execution_count": 3,
   "metadata": {},
   "outputs": [],
   "source": [
    "root = 'covid-19-radiography-database'\n",
    "source = ['COVID', 'normal', 'viral pneumonia']\n",
    "classes = ['COVID', 'normal', 'viral pneumonia']\n",
    "\n",
    "\n",
    "if os.path.isdir(os.path.join(root, source[1])):\n",
    "    test = os.path.join(root, 'test')\n",
    "    if not os.path.exists(test):\n",
    "        os.mkdir(test)\n",
    "\n",
    "    for i, d in enumerate(source):\n",
    "        os.rename(os.path.join(root, d), os.path.join(root, classes[i]))\n",
    "\n",
    "    for c in classes:\n",
    "        classtest = os.path.join(test, c)\n",
    "        if not os.path.exists(classtest):\n",
    "            os.mkdir(classtest)\n",
    "            \n",
    "    for c in classes:\n",
    "        images = [x for x in os.listdir(os.path.join(root, c)) if x.lower().endswith('png')]\n",
    "        selected_images = random.sample(images, 30)\n",
    "        for image in selected_images:\n",
    "            source_path = os.path.join(root, c, image)\n",
    "            target_path = os.path.join(root, 'test', c, image)\n",
    "            shutil.move(source_path, target_path)"
   ]
  },
  {
   "cell_type": "markdown",
   "metadata": {},
   "source": [
    "## Creating Custom Dataset"
   ]
  },
  {
   "cell_type": "code",
   "execution_count": 4,
   "metadata": {},
   "outputs": [],
   "source": [
    "class ChestXRayDataset(torch.utils.data.Dataset):\n",
    "    \n",
    "    # c refers to a class name in classes\n",
    "    \n",
    "    def __init__(self, directories, transform):\n",
    "        def getimages(c):\n",
    "            images = [x for x in os.listdir(directories[c]) if x[-3:].lower().endswith('png')]\n",
    "            print(f'found examples of {c}: {len(images)}')\n",
    "            return images\n",
    "        \n",
    "        self.images = {}\n",
    "        self.classes = ['covid', 'normal', 'viral pneumonia']\n",
    "        \n",
    "        for c in self.classes:\n",
    "            self.images[c] = getimages(c)\n",
    "            \n",
    "        self.transform = transform\n",
    "        self.directories = directories\n",
    "            \n",
    "    def __len__(self):\n",
    "        return sum([len(self.images[c]) for c in self.classes])\n",
    "    \n",
    "    \n",
    "    def __getitem__(self, index):\n",
    "        c = random.choice(self.classes)\n",
    "        index = index % len(self.images[c])\n",
    "        image_name = self.images[c][index]\n",
    "        image_path = os.path.join(self.image_dirs[c], image_name)\n",
    "        image = Image.open(image_path).convert('RGB')\n",
    "        return self.transform(image), self.classes.index(c)"
   ]
  },
  {
   "cell_type": "markdown",
   "metadata": {},
   "source": [
    "## Image Transformations"
   ]
  },
  {
   "cell_type": "code",
   "execution_count": 5,
   "metadata": {},
   "outputs": [],
   "source": [
    "transform_train = torchvision.transforms.Compose([\n",
    "    torchvision.transforms.Resize(size = (224, 244)),\n",
    "    torchvision.transforms.RandomHorizontalFlip(),\n",
    "    torchvision.transforms.ToTensor(),\n",
    "    torchvision.transforms.Normalize(mean = [0.485, 0.456, 0.406], std = [0.229, 0.224, 0.225])\n",
    "])"
   ]
  },
  {
   "cell_type": "code",
   "execution_count": 6,
   "metadata": {},
   "outputs": [],
   "source": [
    "transform_test = torchvision.transforms.Compose([\n",
    "    torchvision.transforms.Resize(size = (224, 244)),\n",
    "    torchvision.transforms.ToTensor(),\n",
    "    torchvision.transforms.Normalize(mean = [0.485, 0.456, 0.406], std = [0.229, 0.224, 0.225])\n",
    "])"
   ]
  },
  {
   "cell_type": "markdown",
   "metadata": {},
   "source": [
    "## Prepare Dataloader"
   ]
  },
  {
   "cell_type": "code",
   "execution_count": 7,
   "metadata": {},
   "outputs": [
    {
     "name": "stdout",
     "output_type": "stream",
     "text": [
      "found examples of covid: 2926\n",
      "found examples of normal: 9502\n",
      "found examples of viral pneumonia: 655\n"
     ]
    }
   ],
   "source": [
    "directory_train = {\n",
    "    'covid': 'covid-19-radiography-database/covid',\n",
    "    'normal': 'covid-19-radiography-database/normal',\n",
    "    'viral pneumonia': 'covid-19-radiography-database/viral pneumonia'\n",
    "}\n",
    "\n",
    "train_dataset = ChestXRayDataset(directory_train, transform_train)"
   ]
  },
  {
   "cell_type": "code",
   "execution_count": 8,
   "metadata": {},
   "outputs": [
    {
     "name": "stdout",
     "output_type": "stream",
     "text": [
      "found examples of covid: 690\n",
      "found examples of normal: 690\n",
      "found examples of viral pneumonia: 690\n"
     ]
    }
   ],
   "source": [
    "directory_test = {\n",
    "    'covid': 'covid-19-radiography-database/test/covid',\n",
    "    'normal': 'covid-19-radiography-database/test/normal',\n",
    "    'viral pneumonia': 'covid-19-radiography-database/test/viral pneumonia'\n",
    "}\n",
    "\n",
    "test_dataset = ChestXRayDataset(directory_test, transform_test)"
   ]
  },
  {
   "cell_type": "code",
   "execution_count": 12,
   "metadata": {},
   "outputs": [
    {
     "name": "stdout",
     "output_type": "stream",
     "text": [
      "number of testing batches 345\n",
      "number of training batches 2181\n"
     ]
    }
   ],
   "source": [
    "batch_size = 6\n",
    "\n",
    "dataloader_test = torch.utils.data.DataLoader(test_dataset, batch_size=batch_size, shuffle=True)\n",
    "dataloader_train = torch.utils.data.DataLoader(train_dataset, batch_size=batch_size, shuffle=True)\n",
    "\n",
    "print('number of testing batches', len(dataloader_test))\n",
    "print('number of training batches', len(dataloader_train))"
   ]
  },
  {
   "cell_type": "markdown",
   "metadata": {},
   "source": [
    "## Data Visualization"
   ]
  },
  {
   "cell_type": "code",
   "execution_count": null,
   "metadata": {},
   "outputs": [],
   "source": [
    "classes = train_dataset.classes\n",
    "\n",
    "def __showimages__(images, labels, predictions):\n",
    "    plt.figure(figsize=(10,5))\n",
    "    for i, image in enumerate(images):\n",
    "        plt.subplot(1, 6, i + 1, xticks=[], yticks=[])\n",
    "        image = image.numpy().transpose((1, 2, 0))\n",
    "        mean = np.array([0.485, 0.456, 0.406])\n",
    "        std = np.array([0.229, 0.224, 0.225])\n",
    "        image = image * std + mean\n",
    "        image = np.clip(image, 0, 1)\n",
    "        plt.imshow(image)\n",
    "        col = 'green'\n",
    "        if predictions[i] != labels[i]:\n",
    "            col = 'red'\n",
    "        plt.xlabel(f'{classes[int(labels[i].numpy())]}')\n",
    "        plt.ylabel(f'{classes[int(predictions[i].numpy())]}', color=col)\n",
    "        plt.tight_layout()\n",
    "    plt.show()\n",
    "    "
   ]
  }
 ],
 "metadata": {
  "kernelspec": {
   "display_name": "Python 3",
   "language": "python",
   "name": "python3"
  },
  "language_info": {
   "codemirror_mode": {
    "name": "ipython",
    "version": 3
   },
   "file_extension": ".py",
   "mimetype": "text/x-python",
   "name": "python",
   "nbconvert_exporter": "python",
   "pygments_lexer": "ipython3",
   "version": "3.12.2"
  }
 },
 "nbformat": 4,
 "nbformat_minor": 2
}
